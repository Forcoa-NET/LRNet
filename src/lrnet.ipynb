{
 "cells": [
  {
   "cell_type": "code",
   "execution_count": 1,
   "metadata": {},
   "outputs": [],
   "source": [
    "import networkx as nx\n",
    "import matplotlib.pyplot as plt\n",
    "import math\n",
    "import pandas as pd"
   ]
  },
  {
   "cell_type": "code",
   "execution_count": 2,
   "metadata": {},
   "outputs": [],
   "source": [
    "G = nx.Graph()\n",
    "G.add_edge('A', 'F', weight=1)\n",
    "G.add_edge('B', 'F', weight=2)\n",
    "G.add_edge('B', 'C', weight=2)\n",
    "G.add_edge('C', 'F', weight=2)\n",
    "G.add_edge('D', 'F', weight=3)\n",
    "G.add_edge('D', 'E', weight=2)\n",
    "G.add_edge('E', 'F', weight=1)\n",
    "G.add_node('G')"
   ]
  },
  {
   "cell_type": "code",
   "execution_count": 3,
   "metadata": {},
   "outputs": [
    {
     "data": {
      "image/png": "[encoded data removed]",
      "text/plain": [
       "<Figure size 432x288 with 1 Axes>"
      ]
     },
     "metadata": {},
     "output_type": "display_data"
    }
   ],
   "source": [
    "pos = pos=nx.circular_layout(G)\n",
    "weights = nx.get_edge_attributes(G, 'weight')\n",
    "nx.draw_networkx(G, pos)\n",
    "nx.draw_networkx_edge_labels(G, pos, weights)\n",
    "plt.show()"
   ]
  },
  {
   "cell_type": "code",
   "execution_count": 4,
   "metadata": {},
   "outputs": [],
   "source": [
    "def local_degree(g, o):\n",
    "    \"\"\"Local degree d(O_i)\"\"\"\n",
    "    return g.degree(o)\n",
    "\n",
    "assert(local_degree(G, 'A') == 1)\n",
    "assert(local_degree(G, 'B') == 2)\n",
    "assert(local_degree(G, 'F') == 5)\n",
    "assert(local_degree(G, 'G') == 0)"
   ]
  },
  {
   "cell_type": "code",
   "execution_count": 5,
   "metadata": {},
   "outputs": [],
   "source": [
    "def local_significance(g, o):\n",
    "    \"\"\"Local significance g(O_i)\"\"\"\n",
    "    return sum(g.get_edge_data(*e)['weight'] for e in g.edges(o))\n",
    "\n",
    "assert(local_significance(G, 'A') == 1)\n",
    "assert(local_significance(G, 'B') == 4)\n",
    "assert(local_significance(G, 'G') == 0)"
   ]
  },
  {
   "cell_type": "code",
   "execution_count": 6,
   "metadata": {},
   "outputs": [],
   "source": [
    "def representativeness(g, o, x):\n",
    "    \"\"\"x-representativeness r_x(O_i)\"\"\"\n",
    "    assert(x > 0)\n",
    "    if local_degree(g, o) == 0:\n",
    "        return 0\n",
    "    \n",
    "    return local_significance(g, o) / math.log(1 + local_degree(g, o), x)"
   ]
  },
  {
   "cell_type": "code",
   "execution_count": 7,
   "metadata": {},
   "outputs": [],
   "source": [
    "def representativeness_base(g, o):\n",
    "    \"\"\"x-representativeness base b(O_i)\"\"\"\n",
    "    return (1 + local_degree(g, o)) ** (1 / local_significance(g, o))"
   ]
  },
  {
   "cell_type": "code",
   "execution_count": 8,
   "metadata": {},
   "outputs": [],
   "source": [
    "def local_representativeness(g, o):\n",
    "    \"\"\"local representativeness lr(O_i)\"\"\"\n",
    "    return 1 / representativeness_base(g, o) if local_significance(g, o) > 0 else 0"
   ]
  },
  {
   "cell_type": "code",
   "execution_count": 9,
   "metadata": {},
   "outputs": [],
   "source": [
    "def representative_neighbor(g, o):\n",
    "    \"\"\"representative neighbor K(O_i)\"\"\"\n",
    "    k = round(local_representativeness(g, o) * local_degree(g, o))\n",
    "    return k"
   ]
  },
  {
   "cell_type": "code",
   "execution_count": 10,
   "metadata": {},
   "outputs": [
    {
     "data": {
      "text/html": [
       "<div>\n",
       "<style scoped>\n",
       "    .dataframe tbody tr th:only-of-type {\n",
       "        vertical-align: middle;\n",
       "    }\n",
       "\n",
       "    .dataframe tbody tr th {\n",
       "        vertical-align: top;\n",
       "    }\n",
       "\n",
       "    .dataframe thead th {\n",
       "        text-align: right;\n",
       "    }\n",
       "</style>\n",
       "<table border=\"1\" class=\"dataframe\">\n",
       "  <thead>\n",
       "    <tr style=\"text-align: right;\">\n",
       "      <th></th>\n",
       "      <th>Object</th>\n",
       "      <th>Local degree</th>\n",
       "      <th>Local significance</th>\n",
       "      <th>x-representativeness</th>\n",
       "      <th>local representativeness</th>\n",
       "      <th>representative neighbor</th>\n",
       "    </tr>\n",
       "  </thead>\n",
       "  <tbody>\n",
       "    <tr>\n",
       "      <th>0</th>\n",
       "      <td>A</td>\n",
       "      <td>1</td>\n",
       "      <td>1</td>\n",
       "      <td>3.321928</td>\n",
       "      <td>0.500000</td>\n",
       "      <td>0</td>\n",
       "    </tr>\n",
       "    <tr>\n",
       "      <th>1</th>\n",
       "      <td>F</td>\n",
       "      <td>5</td>\n",
       "      <td>9</td>\n",
       "      <td>11.565875</td>\n",
       "      <td>0.819481</td>\n",
       "      <td>4</td>\n",
       "    </tr>\n",
       "    <tr>\n",
       "      <th>2</th>\n",
       "      <td>B</td>\n",
       "      <td>2</td>\n",
       "      <td>4</td>\n",
       "      <td>8.383613</td>\n",
       "      <td>0.759836</td>\n",
       "      <td>2</td>\n",
       "    </tr>\n",
       "    <tr>\n",
       "      <th>3</th>\n",
       "      <td>C</td>\n",
       "      <td>2</td>\n",
       "      <td>4</td>\n",
       "      <td>8.383613</td>\n",
       "      <td>0.759836</td>\n",
       "      <td>2</td>\n",
       "    </tr>\n",
       "    <tr>\n",
       "      <th>4</th>\n",
       "      <td>D</td>\n",
       "      <td>2</td>\n",
       "      <td>5</td>\n",
       "      <td>10.479516</td>\n",
       "      <td>0.802742</td>\n",
       "      <td>2</td>\n",
       "    </tr>\n",
       "    <tr>\n",
       "      <th>5</th>\n",
       "      <td>E</td>\n",
       "      <td>2</td>\n",
       "      <td>3</td>\n",
       "      <td>6.287710</td>\n",
       "      <td>0.693361</td>\n",
       "      <td>1</td>\n",
       "    </tr>\n",
       "    <tr>\n",
       "      <th>6</th>\n",
       "      <td>G</td>\n",
       "      <td>0</td>\n",
       "      <td>0</td>\n",
       "      <td>0.000000</td>\n",
       "      <td>0.000000</td>\n",
       "      <td>0</td>\n",
       "    </tr>\n",
       "  </tbody>\n",
       "</table>\n",
       "</div>"
      ],
      "text/plain": [
       "  Object  Local degree  Local significance  x-representativeness  \\\n",
       "0      A             1                   1              3.321928   \n",
       "1      F             5                   9             11.565875   \n",
       "2      B             2                   4              8.383613   \n",
       "3      C             2                   4              8.383613   \n",
       "4      D             2                   5             10.479516   \n",
       "5      E             2                   3              6.287710   \n",
       "6      G             0                   0              0.000000   \n",
       "\n",
       "   local representativeness  representative neighbor  \n",
       "0                  0.500000                        0  \n",
       "1                  0.819481                        4  \n",
       "2                  0.759836                        2  \n",
       "3                  0.759836                        2  \n",
       "4                  0.802742                        2  \n",
       "5                  0.693361                        1  \n",
       "6                  0.000000                        0  "
      ]
     },
     "execution_count": 10,
     "metadata": {},
     "output_type": "execute_result"
    }
   ],
   "source": [
    "data = []\n",
    "#columns = ['Object', 'Local degree', 'Local significance', 'x-representativeness', 'x-representativeness base', 'local representativeness', 'representative neighbor']\n",
    "columns = ['Object', 'Local degree', 'Local significance', 'x-representativeness', 'local representativeness', 'representative neighbor']\n",
    "\n",
    "x = 10\n",
    "for o in G:\n",
    "    data.append([\n",
    "        o,\n",
    "        local_degree(G, o),\n",
    "        local_significance(G, o),\n",
    "        representativeness(G, o, x),\n",
    "        #representativeness_base(G, o),\n",
    "        local_representativeness(G, o),\n",
    "        representative_neighbor(G, o)\n",
    "    ])\n",
    "    \n",
    "df = pd.DataFrame(data=data, columns=columns)\n",
    "df"
   ]
  }
 ],
 "metadata": {
  "kernelspec": {
   "display_name": "Python 3",
   "language": "python",
   "name": "python3"
  },
  "language_info": {
   "codemirror_mode": {
    "name": "ipython",
    "version": 3
   },
   "file_extension": ".py",
   "mimetype": "text/x-python",
   "name": "python",
   "nbconvert_exporter": "python",
   "pygments_lexer": "ipython3",
   "version": "3.8.1"
  }
 },
 "nbformat": 4,
 "nbformat_minor": 4
}
